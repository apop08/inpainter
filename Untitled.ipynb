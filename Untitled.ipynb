{
 "cells": [
  {
   "cell_type": "code",
   "execution_count": null,
   "metadata": {},
   "outputs": [],
   "source": [
    "import tensorflow as tf\n",
    "import numpy as np"
   ]
  },
  {
   "cell_type": "code",
   "execution_count": null,
   "metadata": {},
   "outputs": [],
   "source": [
    "def random_box(config)\n",
    "    img_shape = config.IMG_SHAPES\n",
    "    img_h = img_shape[0]\n",
    "    img_w = img_shape[1]\n",
    "    lim_top = img_h - img_h / config.VERTICAL_MARGIN - config.HEIGHT\n",
    "    lim_left = img_w - img_w / config.HORIZONTAL_MARGIN - config.WIDTH\n",
    "    \n",
    "    t = tf.random_uniform(\n",
    "        [], minval=img_h / config.VERTICAL_MARGIN, maxval=maxt, dtype=tf.int32)\n",
    "    l = tf.random_uniform(\n",
    "        [], minval=img_w / config.HORIZONTAL_MARGIN, maxval=maxl, dtype=tf.int32)\n",
    "    h = tf.constant(config.HEIGHT)\n",
    "    w = tf.constant(config.WIDTH)\n",
    "    \n",
    "    return (t, l, h, w)\n"
   ]
  },
  {
   "cell_type": "code",
   "execution_count": null,
   "metadata": {},
   "outputs": [],
   "source": [
    "img_shape = [4795, 3197]\n",
    "img_h = 4795\n",
    "img_w = 3197\n",
    "height = img_h // 10\n",
    "width = img_w // 10\n",
    "vertical_margin = img_h // 100\n",
    "horizontal_margin = img_w // 100\n",
    "lim_top = img_h - img_h // vertical_margin - height  \n",
    "lim_left = img_w - img_w // horizontal_margin - width\n",
    "\n",
    "t = tf.random_uniform(\n",
    "        [], minval=vertical_margin, maxval=lim_top, dtype=tf.int32)\n",
    "l = tf.random_uniform(\n",
    "        [], minval=horizontal_margin, maxval=lim_left, dtype=tf.int32)\n",
    "h = tf.constant(height)\n",
    "w = tf.constant(width)\n",
    "\n",
    "bbox = (t, l, h, w)\n",
    "print(bbox)"
   ]
  }
 ],
 "metadata": {
  "kernelspec": {
   "display_name": "Python 3",
   "language": "python",
   "name": "python3"
  },
  "language_info": {
   "codemirror_mode": {
    "name": "ipython",
    "version": 3
   },
   "file_extension": ".py",
   "mimetype": "text/x-python",
   "name": "python",
   "nbconvert_exporter": "python",
   "pygments_lexer": "ipython3",
   "version": "3.6.8"
  }
 },
 "nbformat": 4,
 "nbformat_minor": 2
}
