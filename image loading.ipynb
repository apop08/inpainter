{
 "cells": [
  {
   "cell_type": "code",
   "execution_count": 22,
   "metadata": {},
   "outputs": [
    {
     "name": "stdout",
     "output_type": "stream",
     "text": [
      "[[[32 36 39]\n",
      "  [38 42 45]\n",
      "  [33 37 40]\n",
      "  ...\n",
      "  [44 44 46]\n",
      "  [40 40 42]\n",
      "  [44 44 46]]\n",
      "\n",
      " [[37 41 44]\n",
      "  [36 40 43]\n",
      "  [34 38 41]\n",
      "  ...\n",
      "  [34 34 36]\n",
      "  [32 32 34]\n",
      "  [40 40 42]]\n",
      "\n",
      " [[42 46 49]\n",
      "  [38 42 45]\n",
      "  [37 41 44]\n",
      "  ...\n",
      "  [41 41 43]\n",
      "  [36 36 38]\n",
      "  [39 39 41]]\n",
      "\n",
      " ...\n",
      "\n",
      " [[18 18 18]\n",
      "  [14 14 14]\n",
      "  [14 14 14]\n",
      "  ...\n",
      "  [24 24 26]\n",
      "  [22 22 22]\n",
      "  [18 18 18]]\n",
      "\n",
      " [[16 16 16]\n",
      "  [13 13 13]\n",
      "  [13 13 13]\n",
      "  ...\n",
      "  [24 24 26]\n",
      "  [22 22 22]\n",
      "  [18 18 18]]\n",
      "\n",
      " [[14 14 14]\n",
      "  [13 13 13]\n",
      "  [13 13 13]\n",
      "  ...\n",
      "  [24 24 26]\n",
      "  [22 22 22]\n",
      "  [18 18 18]]]\n"
     ]
    }
   ],
   "source": [
    "import tensorflow as tf\n",
    "import math\n",
    "# Import the image\n",
    "image = tf.image.decode_jpeg(tf.read_file(\"./images/DSC_0059.jpg\"), channels=3)\n",
    "\n",
    "\n",
    "session = tf.InteractiveSession()\n",
    "\n",
    "print(session.run(image))\n",
    "\n",
    "\n"
   ]
  },
  {
   "cell_type": "code",
   "execution_count": 31,
   "metadata": {},
   "outputs": [
    {
     "name": "stdout",
     "output_type": "stream",
     "text": [
      "47\n",
      "(<tf.Tensor 'random_uniform_5:0' shape=() dtype=int32>, <tf.Tensor 'random_uniform_6:0' shape=() dtype=int32>, <tf.Tensor 'Const_18:0' shape=() dtype=int32>, <tf.Tensor 'Const_19:0' shape=() dtype=int32>)\n"
     ]
    }
   ],
   "source": [
    "img_shape = [4795, 3197]\n",
    "img_h = 4795\n",
    "img_w = 3197\n",
    "height = img_h // 10\n",
    "width = img_w // 10\n",
    "vertical_margin = img_h // 100\n",
    "horizontal_margin = img_w // 100\n",
    "lim_top = img_h - img_h // vertical_margin - height  \n",
    "lim_left = img_w - img_w // horizontal_margin - width\n",
    "\n",
    "t = tf.random_uniform(\n",
    "        [], minval=vertical_margin, maxval=lim_top, dtype=tf.int32)\n",
    "l = tf.random_uniform(\n",
    "        [], minval=horizontal_margin, maxval=lim_left, dtype=tf.int32)\n",
    "h = tf.constant(height)\n",
    "w = tf.constant(width)\n",
    "\n",
    "bbox = (t, l, h, w)\n",
    "print(bbox)"
   ]
  },
  {
   "cell_type": "code",
   "execution_count": 24,
   "metadata": {},
   "outputs": [
    {
     "name": "stdout",
     "output_type": "stream",
     "text": [
      "Image Saved!\n"
     ]
    }
   ],
   "source": [
    "output_image = tf.image.encode_jpeg(masked_image)\n",
    "\n",
    "# Create a constant as filename\n",
    "file_name = tf.constant('Output_image.jpeg')\n",
    "file = tf.write_file(file_name, output_image)\n",
    "\n",
    "#print(session.run(file))\n",
    "\n",
    "print(\"Image Saved!\")\n",
    "\n",
    "session.close()"
   ]
  },
  {
   "cell_type": "code",
   "execution_count": null,
   "metadata": {},
   "outputs": [],
   "source": []
  }
 ],
 "metadata": {
  "kernelspec": {
   "display_name": "Python 3",
   "language": "python",
   "name": "python3"
  },
  "language_info": {
   "codemirror_mode": {
    "name": "ipython",
    "version": 3
   },
   "file_extension": ".py",
   "mimetype": "text/x-python",
   "name": "python",
   "nbconvert_exporter": "python",
   "pygments_lexer": "ipython3",
   "version": "3.6.8"
  }
 },
 "nbformat": 4,
 "nbformat_minor": 2
}
